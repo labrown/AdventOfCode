{
 "cells": [
  {
   "cell_type": "markdown",
   "metadata": {},
   "source": [
    "Load data into numpy grid"
   ]
  },
  {
   "cell_type": "code",
   "execution_count": 2,
   "metadata": {},
   "outputs": [
    {
     "name": "stdout",
     "output_type": "stream",
     "text": [
      "[['S' 'M' 'M' ... 'A' 'M' 'X']\n",
      " ['S' 'A' 'M' ... 'S' 'S' 'M']\n",
      " ['S' 'A' 'M' ... 'A' 'A' 'X']\n",
      " ...\n",
      " ['X' 'M' 'A' ... 'A' 'S' 'X']\n",
      " ['X' 'M' 'A' ... 'X' 'M' 'M']\n",
      " ['M' 'M' 'X' ... 'X' 'M' 'S']]\n"
     ]
    }
   ],
   "source": [
    "import numpy as np\n",
    "import re\n",
    "from aocd.models import Puzzle\n",
    "\n",
    "puzzle = Puzzle(day=4, year=2024)\n",
    "\n",
    "def string_to_grid(string: str) -> list[list[str]]:\n",
    "    grid = []\n",
    "    lines = string.split(\"\\n\")\n",
    "    for line in lines:\n",
    "        grid.append(list(line))\n",
    "    return grid\n",
    "\n",
    "example=\"\"\"MMMSXXMASM\n",
    "MSAMXMSMSA\n",
    "AMXSXMAAMM\n",
    "MSAMASMSMX\n",
    "XMASAMXAMM\n",
    "XXAMMXXAMA\n",
    "SMSMSASXSS\n",
    "SAXAMASAAA\n",
    "MAMMMXMMMM\n",
    "MXMXAXMASX\"\"\"\n",
    "\n",
    "# example=\"\"\"1...XXMAS.\n",
    "# 2SAMXMS...\n",
    "# 3..S..A...\n",
    "# 4.A.A.MS.X\n",
    "# XMASAMX5MM\n",
    "# X6....XA.A\n",
    "# S7S.S.S.SS\n",
    "# 8A.A.A.A.A\n",
    "# 9.M.M.M.MM\n",
    "# 0X.X.XMASX\"\"\"\n",
    "\n",
    "# example=\"\"\"X..SX\n",
    "# .MA.M\n",
    "# XMASA\n",
    "# X..SS\"\"\"\n",
    "\n",
    "# input_grid = string_to_grid(puzzle.examples[0].input_data)\n",
    "# input_grid = string_to_grid(example)\n",
    "input_grid = string_to_grid(puzzle.input_data)\n",
    "\n",
    "grid = np.array(input_grid)\n",
    "print(grid)\n",
    "\n"
   ]
  },
  {
   "cell_type": "markdown",
   "metadata": {},
   "source": [
    "Iterate through grid examining each possible cell.\n",
    "* Is it an A?\n",
    "    * Does it have an M/S on the diagonal?\n",
    "        * Does it have an M/S on the anti-diagonal?\n",
    "            * Yes, We found an X-MAS"
   ]
  },
  {
   "cell_type": "code",
   "execution_count": 4,
   "metadata": {},
   "outputs": [
    {
     "name": "stdout",
     "output_type": "stream",
     "text": [
      "2000\n"
     ]
    }
   ],
   "source": [
    "found = 0\n",
    "xs,ys = grid.shape\n",
    "for x in range(1,xs-1):\n",
    "    for y in range(1,ys-1):\n",
    "        if grid[x][y] == 'A':\n",
    "            if (grid[x-1][y-1] == \"M\" and grid[x+1][y+1] == \"S\") or (grid[x-1][y-1] == \"S\" and grid[x+1][y+1] == \"M\"):\n",
    "                if (grid[x-1][y+1] == \"M\" and grid[x+1][y-1] == \"S\") or (grid[x-1][y+1] == \"S\" and grid[x+1][y-1] == \"M\"):\n",
    "                    # print(f\"found X-MAS at {x},{y}\")\n",
    "                    found += 1\n",
    "\n",
    "print(found)\n",
    "puzzle.answer_b = found"
   ]
  }
 ],
 "metadata": {
  "kernelspec": {
   "display_name": ".venv_aoc",
   "language": "python",
   "name": "python3"
  },
  "language_info": {
   "codemirror_mode": {
    "name": "ipython",
    "version": 3
   },
   "file_extension": ".py",
   "mimetype": "text/x-python",
   "name": "python",
   "nbconvert_exporter": "python",
   "pygments_lexer": "ipython3",
   "version": "3.12.0"
  }
 },
 "nbformat": 4,
 "nbformat_minor": 2
}
