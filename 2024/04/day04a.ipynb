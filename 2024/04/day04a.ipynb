{
 "cells": [
  {
   "cell_type": "markdown",
   "metadata": {},
   "source": [
    "Load data into numpy grid"
   ]
  },
  {
   "cell_type": "code",
   "execution_count": 71,
   "metadata": {},
   "outputs": [
    {
     "name": "stdout",
     "output_type": "stream",
     "text": [
      "[Example(input_data='..X...\\n.SAMX.\\n.A..A.\\nXMAS.S\\n.X....', answer_a='XMAS', answer_b=None, extra=None)]\n"
     ]
    }
   ],
   "source": [
    "import numpy as np\n",
    "import re\n",
    "from aocd.models import Puzzle\n",
    "\n",
    "puzzle = Puzzle(day=4, year=2024)\n",
    "\n",
    "print(puzzle.examples)\n",
    "\n",
    "def string_to_grid(string: str) -> list[list[str]]:\n",
    "    grid = []\n",
    "    lines = string.split(\"\\n\")\n",
    "    for line in lines:\n",
    "        grid.append(list(line))\n",
    "    return grid\n",
    "\n",
    "example=\"\"\"MMMSXXMASM\n",
    "MSAMXMSMSA\n",
    "AMXSXMAAMM\n",
    "MSAMASMSMX\n",
    "XMASAMXAMM\n",
    "XXAMMXXAMA\n",
    "SMSMSASXSS\n",
    "SAXAMASAAA\n",
    "MAMMMXMMMM\n",
    "MXMXAXMASX\"\"\"\n",
    "\n",
    "# example=\"\"\"1...XXMAS.\n",
    "# 2SAMXMS...\n",
    "# 3..S..A...\n",
    "# 4.A.A.MS.X\n",
    "# XMASAMX5MM\n",
    "# X6....XA.A\n",
    "# S7S.S.S.SS\n",
    "# 8A.A.A.A.A\n",
    "# 9.M.M.M.MM\n",
    "# 0X.X.XMASX\"\"\"\n",
    "\n",
    "# example=\"\"\"X..SX\n",
    "# .MA.M\n",
    "# XMASA\n",
    "# X..SS\"\"\"\n",
    "\n",
    "# input_grid = string_to_grid(puzzle.examples[0].input_data)\n",
    "# input_grid = string_to_grid(example)\n",
    "input_grid = string_to_grid(puzzle.input_data)\n",
    "\n",
    "grid = np.array(input_grid)\n",
    "\n"
   ]
  },
  {
   "cell_type": "markdown",
   "metadata": {},
   "source": [
    "Add all rows to all_lines"
   ]
  },
  {
   "cell_type": "code",
   "execution_count": 72,
   "metadata": {},
   "outputs": [],
   "source": [
    "all_lines = []\n",
    "for i in range(grid.shape[0]):\n",
    "    all_lines.append(\"\".join(grid[i]))"
   ]
  },
  {
   "cell_type": "markdown",
   "metadata": {},
   "source": [
    "Transpose grid so we can add all columns to all_lines"
   ]
  },
  {
   "cell_type": "code",
   "execution_count": 73,
   "metadata": {},
   "outputs": [],
   "source": [
    "tgrid = grid.transpose()\n",
    "for i in range(tgrid.shape[0]):\n",
    "    all_lines.append(\"\".join(tgrid[i]))\n"
   ]
  },
  {
   "cell_type": "markdown",
   "metadata": {},
   "source": [
    "Add all diagonals to all_lines, using offset to move across grid"
   ]
  },
  {
   "cell_type": "code",
   "execution_count": 74,
   "metadata": {},
   "outputs": [],
   "source": [
    "lines = grid.shape[0]\n",
    "for o in range( lines*-1+1,lines+1):\n",
    "    all_lines.append(\"\".join(np.linalg.diagonal(grid, offset=o)))\n"
   ]
  },
  {
   "cell_type": "markdown",
   "metadata": {},
   "source": [
    "Flip grid left to right so we can get the anti-diagonals of the original grid\n",
    "and add them to all_lines"
   ]
  },
  {
   "cell_type": "code",
   "execution_count": 75,
   "metadata": {},
   "outputs": [],
   "source": [
    "fgrid = np.fliplr(grid)\n",
    "flines = fgrid.shape[0]\n",
    "for o in range( flines*-1+1,flines+1):\n",
    "    all_lines.append(\"\".join(np.linalg.diagonal(fgrid, offset=o)))"
   ]
  },
  {
   "cell_type": "markdown",
   "metadata": {},
   "source": [
    "Filter out lines less than 4 characters long, no need to test them"
   ]
  },
  {
   "cell_type": "code",
   "execution_count": 76,
   "metadata": {},
   "outputs": [],
   "source": [
    "all_lines4 =  [l for l in all_lines if len(l) > 3]\n"
   ]
  },
  {
   "cell_type": "markdown",
   "metadata": {},
   "source": [
    "Join all testable lines into a single string separated by commas\n",
    "Search for all instances of XMAS\n",
    "Search for all instances of SAMX\n",
    "Report sum of results of both searches"
   ]
  },
  {
   "cell_type": "code",
   "execution_count": 77,
   "metadata": {},
   "outputs": [
    {
     "name": "stdout",
     "output_type": "stream",
     "text": [
      "2646\n"
     ]
    }
   ],
   "source": [
    "big_str = \",\".join(all_lines4)\n",
    "# print(big_str)\n",
    "pattern = re.compile(r\"XMAS\")\n",
    "matches = pattern.findall(big_str)\n",
    "sum=len(matches)\n",
    "\n",
    "pattern = re.compile(r\"SAMX\")\n",
    "matches = pattern.findall(big_str)\n",
    "sum += len(matches)\n",
    "\n",
    "print(sum)\n",
    "puzzle.answer_a = sum\n"
   ]
  }
 ],
 "metadata": {
  "kernelspec": {
   "display_name": ".venv_aoc",
   "language": "python",
   "name": "python3"
  },
  "language_info": {
   "codemirror_mode": {
    "name": "ipython",
    "version": 3
   },
   "file_extension": ".py",
   "mimetype": "text/x-python",
   "name": "python",
   "nbconvert_exporter": "python",
   "pygments_lexer": "ipython3",
   "version": "3.12.0"
  }
 },
 "nbformat": 4,
 "nbformat_minor": 2
}
