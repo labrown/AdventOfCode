{
 "cells": [
  {
   "cell_type": "markdown",
   "metadata": {},
   "source": [
    "Start Day 5 2024"
   ]
  },
  {
   "cell_type": "code",
   "execution_count": 1,
   "metadata": {},
   "outputs": [],
   "source": [
    "from aocd.models import Puzzle\n",
    "\n",
    "puzzle = Puzzle(day=5, year=2024)"
   ]
  },
  {
   "cell_type": "code",
   "execution_count": 10,
   "metadata": {},
   "outputs": [
    {
     "name": "stdout",
     "output_type": "stream",
     "text": [
      "[[47, 53], [97, 13], [97, 61], [97, 47], [75, 29], [61, 13], [75, 53], [29, 13], [97, 29], [53, 29], [61, 53], [97, 53], [61, 29], [47, 13], [75, 47], [97, 75], [47, 61], [75, 61], [47, 29], [75, 13], [53, 13]]\n",
      "[[75, 47, 61, 53, 29], [97, 61, 53, 29, 13], [75, 29, 13], [75, 97, 47, 61, 53], [61, 13, 29], [97, 13, 75, 29, 47]]\n"
     ]
    }
   ],
   "source": [
    "import re\n",
    "input_data = puzzle.examples[0].input_data\n",
    "\n",
    "def get_data(input: str) -> tuple[list[list[int,int]], str]:\n",
    "    rules = []\n",
    "    updates = []\n",
    "    lines = input.split(\"\\n\")\n",
    "    in_rules = True\n",
    "    for line in lines:\n",
    "        if in_rules and line == \"\":\n",
    "            in_rules = False\n",
    "            continue\n",
    "        if in_rules and line != \"\":\n",
    "            before, after = line.split('|')\n",
    "            rules.append([int(before),int(after)])\n",
    "        if not in_rules:\n",
    "            update = [int(x) for x in line.split(\",\")]\n",
    "            updates.append(update)\n",
    "    return(rules,updates)\n",
    "\n",
    "rules, updates = get_data(input_data)\n",
    "print(rules)\n",
    "print(updates)"
   ]
  },
  {
   "cell_type": "code",
   "execution_count": 31,
   "metadata": {},
   "outputs": [
    {
     "name": "stdout",
     "output_type": "stream",
     "text": [
      "[75, 47, 61, 53, 29]\n",
      "75 [] [47, 61, 53, 29] [[75, 29], [75, 53], [75, 47], [75, 61], [75, 13]] [[97, 75]]\n",
      "ap is 47 found is [[75, 47]]\n",
      "result is False\n",
      "47 [75] [61, 53, 29] [[47, 53], [47, 13], [47, 61], [47, 29]] [[97, 47], [75, 47]]\n",
      "bp is 75 found is [[75, 47]]\n",
      "result is False\n",
      "61 [75, 47] [53, 29] [[61, 13], [61, 53], [61, 29]] [[97, 61], [47, 61], [75, 61]]\n",
      "bp is 75 found is [[75, 61]]\n",
      "result is False\n",
      "53 [75, 47, 61] [29] [[53, 29], [53, 13]] [[47, 53], [75, 53], [61, 53], [97, 53]]\n",
      "bp is 75 found is [[75, 53]]\n",
      "result is False\n",
      "29 [75, 47, 61, 53] [] [[29, 13]] [[75, 29], [97, 29], [53, 29], [61, 29], [47, 29]]\n",
      "bp is 75 found is [[75, 29]]\n",
      "result is False\n",
      "[97, 61, 53, 29, 13]\n",
      "97 [] [61, 53, 29, 13] [[97, 13], [97, 61], [97, 47], [97, 29], [97, 53], [97, 75]] []\n",
      "ap is 61 found is [[97, 61]]\n",
      "result is False\n",
      "61 [97] [53, 29, 13] [[61, 13], [61, 53], [61, 29]] [[97, 61], [47, 61], [75, 61]]\n",
      "bp is 97 found is [[97, 61]]\n",
      "result is False\n",
      "53 [97, 61] [29, 13] [[53, 29], [53, 13]] [[47, 53], [75, 53], [61, 53], [97, 53]]\n",
      "bp is 97 found is [[97, 53]]\n",
      "result is False\n",
      "29 [97, 61, 53] [13] [[29, 13]] [[75, 29], [97, 29], [53, 29], [61, 29], [47, 29]]\n",
      "bp is 97 found is [[97, 29]]\n",
      "result is False\n",
      "13 [97, 61, 53, 29] [] [] [[97, 13], [61, 13], [29, 13], [47, 13], [75, 13], [53, 13]]\n",
      "bp is 97 found is [[97, 13]]\n",
      "result is False\n",
      "[75, 29, 13]\n",
      "75 [] [29, 13] [[75, 29], [75, 53], [75, 47], [75, 61], [75, 13]] [[97, 75]]\n",
      "ap is 29 found is [[75, 29]]\n",
      "result is False\n",
      "29 [75] [13] [[29, 13]] [[75, 29], [97, 29], [53, 29], [61, 29], [47, 29]]\n",
      "bp is 75 found is [[75, 29]]\n",
      "result is False\n",
      "13 [75, 29] [] [] [[97, 13], [61, 13], [29, 13], [47, 13], [75, 13], [53, 13]]\n",
      "bp is 75 found is [[75, 13]]\n",
      "result is False\n",
      "[75, 97, 47, 61, 53]\n",
      "75 [] [97, 47, 61, 53] [[75, 29], [75, 53], [75, 47], [75, 61], [75, 13]] [[97, 75]]\n",
      "ap is 97 found is []\n",
      "ap is 47 found is [[75, 47]]\n",
      "result is False\n",
      "97 [75] [47, 61, 53] [[97, 13], [97, 61], [97, 47], [97, 29], [97, 53], [97, 75]] []\n",
      "bp is 75 found is []\n",
      "ap is 47 found is [[97, 47]]\n",
      "result is False\n",
      "47 [75, 97] [61, 53] [[47, 53], [47, 13], [47, 61], [47, 29]] [[97, 47], [75, 47]]\n",
      "bp is 75 found is [[75, 47]]\n",
      "result is False\n",
      "61 [75, 97, 47] [53] [[61, 13], [61, 53], [61, 29]] [[97, 61], [47, 61], [75, 61]]\n",
      "bp is 75 found is [[75, 61]]\n",
      "result is False\n",
      "53 [75, 97, 47, 61] [] [[53, 29], [53, 13]] [[47, 53], [75, 53], [61, 53], [97, 53]]\n",
      "bp is 75 found is [[75, 53]]\n",
      "result is False\n",
      "[61, 13, 29]\n",
      "61 [] [13, 29] [[61, 13], [61, 53], [61, 29]] [[97, 61], [47, 61], [75, 61]]\n",
      "ap is 13 found is [[61, 13]]\n",
      "result is False\n",
      "13 [61] [29] [] [[97, 13], [61, 13], [29, 13], [47, 13], [75, 13], [53, 13]]\n",
      "bp is 61 found is [[61, 13]]\n",
      "result is False\n",
      "29 [61, 13] [] [[29, 13]] [[75, 29], [97, 29], [53, 29], [61, 29], [47, 29]]\n",
      "bp is 61 found is [[61, 29]]\n",
      "result is False\n",
      "[97, 13, 75, 29, 47]\n",
      "97 [] [13, 75, 29, 47] [[97, 13], [97, 61], [97, 47], [97, 29], [97, 53], [97, 75]] []\n",
      "ap is 13 found is [[97, 13]]\n",
      "result is False\n",
      "13 [97] [75, 29, 47] [] [[97, 13], [61, 13], [29, 13], [47, 13], [75, 13], [53, 13]]\n",
      "bp is 97 found is [[97, 13]]\n",
      "result is False\n",
      "75 [97, 13] [29, 47] [[75, 29], [75, 53], [75, 47], [75, 61], [75, 13]] [[97, 75]]\n",
      "bp is 97 found is [[97, 75]]\n",
      "result is False\n",
      "29 [97, 13, 75] [47] [[29, 13]] [[75, 29], [97, 29], [53, 29], [61, 29], [47, 29]]\n",
      "bp is 97 found is [[97, 29]]\n",
      "result is False\n",
      "47 [97, 13, 75, 29] [] [[47, 53], [47, 13], [47, 61], [47, 29]] [[97, 47], [75, 47]]\n",
      "bp is 97 found is [[97, 47]]\n",
      "result is False\n"
     ]
    }
   ],
   "source": [
    "def check_page(this_page: int, before_pages: list[int], after_pages: list[int], rules: list[tuple[int,int]]) -> bool:\n",
    "    before_rules = [ x[1] for x in rules if x[0] == this_page] \n",
    "    after_rules = [ x[0] for x in rules if x[1] == this_page] \n",
    "    print(this_page, before_pages, after_pages, before_rules, after_rules)\n",
    "    # for bp in before_pages:\n",
    "    #     found = [ x for x in after_rules if x[0] == bp]\n",
    "\n",
    "    #     print(f\"bp is {bp} found is {found}\")\n",
    "    #     if len(found)>0:\n",
    "    #         return False\n",
    "    # for ap in after_pages:\n",
    "    #     found = [ x for x in before_rules if x[1] == ap]\n",
    "    #     print(f\"ap is {ap} found is {found}\")\n",
    "    #     if len(found)>0:\n",
    "    #         return False\n",
    "    return True\n",
    "            \n",
    "\n",
    "for update in updates:\n",
    "    print(update)\n",
    "    good = True\n",
    "    for i in range(len(update)):\n",
    "        result = check_page(update[i], update[:i], update[i+1:], rules)\n",
    "        print(f\"result is {result}\")\n"
   ]
  }
 ],
 "metadata": {
  "kernelspec": {
   "display_name": ".venv_aoc",
   "language": "python",
   "name": "python3"
  },
  "language_info": {
   "codemirror_mode": {
    "name": "ipython",
    "version": 3
   },
   "file_extension": ".py",
   "mimetype": "text/x-python",
   "name": "python",
   "nbconvert_exporter": "python",
   "pygments_lexer": "ipython3",
   "version": "3.12.0"
  }
 },
 "nbformat": 4,
 "nbformat_minor": 2
}
