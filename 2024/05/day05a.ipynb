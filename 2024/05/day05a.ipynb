{
 "cells": [
  {
   "cell_type": "markdown",
   "metadata": {},
   "source": [
    "Start Day 5 2024"
   ]
  },
  {
   "cell_type": "code",
   "execution_count": 1,
   "metadata": {},
   "outputs": [],
   "source": [
    "from aocd.models import Puzzle\n",
    "\n",
    "puzzle = Puzzle(day=5, year=2024)"
   ]
  },
  {
   "cell_type": "code",
   "execution_count": null,
   "metadata": {},
   "outputs": [],
   "source": [
    "input_data = puzzle.examples[0].input_data\n",
    "input_data = puzzle.input_data\n",
    "\n",
    "def get_data(input: str) -> tuple[list[list[int,int]], str]:\n",
    "    rules = []\n",
    "    updates = []\n",
    "    lines = input.split(\"\\n\")\n",
    "    in_rules = True\n",
    "    for line in lines:\n",
    "        if in_rules and line == \"\":\n",
    "            in_rules = False\n",
    "            continue\n",
    "        if in_rules and line != \"\":\n",
    "            before, after = line.split('|')\n",
    "            rules.append([int(before),int(after)])\n",
    "        if not in_rules:\n",
    "            update = [int(x) for x in line.split(\",\")]\n",
    "            updates.append(update)\n",
    "    return(rules,updates)\n",
    "\n",
    "rules, updates = get_data(input_data)\n",
    "print(rules)\n",
    "print(updates)"
   ]
  },
  {
   "cell_type": "code",
   "execution_count": null,
   "metadata": {},
   "outputs": [],
   "source": [
    "from math import ceil\n",
    "\n",
    "def check_page(this_page: int, before_pages: list[int], after_pages: list[int], rules: list[tuple[int,int]]) -> bool:\n",
    "    before_rules = [ x[1] for x in rules if x[0] == this_page] \n",
    "    after_rules = [ x[0] for x in rules if x[1] == this_page] \n",
    "    # print(this_page, before_pages, after_pages, before_rules, after_rules)\n",
    "    for bp in before_pages:\n",
    "        found = [ p for p in before_rules if p == bp]\n",
    "        # print(f\"bp is {bp} found is {found}\")\n",
    "        if len(found)>0:\n",
    "            return False\n",
    " \n",
    "    for ap in after_pages:\n",
    "        found = [ p for p in after_rules if p == ap]\n",
    "        # print(f\"ap is {ap} found is {found}\")\n",
    "        if len(found)>0:\n",
    "            return False\n",
    "    return True\n",
    "            \n",
    "\n",
    "sum = 0\n",
    "bad_updates = []\n",
    "for update in updates:\n",
    "    good = True\n",
    "    for i in range(len(update)):\n",
    "        result = check_page(update[i], update[:i], update[i+1:], rules)\n",
    "        if not result:\n",
    "          good = False\n",
    "          break\n",
    "    if good:\n",
    "        sum += update[ceil(len(update)/2 - 1)]\n",
    "    else:\n",
    "        bad_updates.append(update)\n",
    "        \n",
    "print(sum)\n",
    "puzzle.answer_a = sum\n"
   ]
  },
  {
   "cell_type": "code",
   "execution_count": null,
   "metadata": {},
   "outputs": [],
   "source": [
    "sum = 0\n",
    "for bad in bad_updates:\n",
    "    "
   ]
  }
 ],
 "metadata": {
  "kernelspec": {
   "display_name": ".venv_aoc",
   "language": "python",
   "name": "python3"
  },
  "language_info": {
   "codemirror_mode": {
    "name": "ipython",
    "version": 3
   },
   "file_extension": ".py",
   "mimetype": "text/x-python",
   "name": "python",
   "nbconvert_exporter": "python",
   "pygments_lexer": "ipython3",
   "version": "3.12.0"
  }
 },
 "nbformat": 4,
 "nbformat_minor": 2
}
